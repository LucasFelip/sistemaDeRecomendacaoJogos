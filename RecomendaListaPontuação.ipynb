{
 "nbformat": 4,
 "nbformat_minor": 0,
 "metadata": {
  "colab": {
   "provenance": []
  },
  "kernelspec": {
   "name": "python3",
   "language": "python",
   "display_name": "Python 3 (ipykernel)"
  },
  "language_info": {
   "name": "python"
  }
 },
 "cells": [
  {
   "cell_type": "markdown",
   "source": [
    "# Objetivo do Código de Recomendação de Jogos\n",
    "---\n",
    "O objetivo deste código é fornecer recomendações de jogos com base em um conjunto de dados de avaliações de jogos. Ele utiliza algoritmos de filtragem e pontuação para selecionar os jogos mais relevantes de acordo com critérios fornecidos, como título, gênero, preço, data de lançamento e plataforma.\n",
    "\n",
    "\n",
    "---\n",
    "\n",
    "*A sequência de execução do código é a seguinte:*\n",
    "\n",
    "* Carregar os dados do conjunto de dados disponível em um URL.\n",
    "* Realizar o pré-processamento dos dados, convertendo as colunas de avaliações para tipo numérico e removendo as linhas com valores ausentes nas colunas de avaliações.\n",
    "* Calcular a média das avaliações positivas dos jogos em todo o conjunto de dados.\n",
    "* Calcular a pontuação de cada jogo com base nas avaliações positivas e negativas, a média das avaliações positivas e um valor de referência mínimo necessário para um jogo atender ao pré-requisito.\n",
    "* Filtrar os jogos que atendem ao pré-requisito de ter uma quantidade mínima de avaliações positivas.\n",
    "* Receber os parâmetros de busca, como título, gênero, preço, data de lançamento e plataforma, e retornar um DataFrame com as principais recomendações de jogos que atendem aos critérios especificados, ordenados por pontuação.\n"
   ],
   "metadata": {
    "id": "YDOduBqAHyMz"
   }
  },
  {
   "cell_type": "markdown",
   "source": [
    "# Algoritmo"
   ],
   "metadata": {
    "id": "FHD_iYYwJaSO"
   }
  },
  {
   "cell_type": "markdown",
   "source": [
    "## Carrega o conjunto"
   ],
   "metadata": {
    "collapsed": false
   }
  },
  {
   "cell_type": "code",
   "execution_count": 42,
   "metadata": {
    "id": "86YETQeGHxEa",
    "ExecuteTime": {
     "end_time": "2023-05-31T13:45:15.189180200Z",
     "start_time": "2023-05-31T13:45:15.112184700Z"
    }
   },
   "outputs": [],
   "source": [
    "from datetime import datetime\n",
    "import pandas as pd\n",
    "\n",
    "def load_data():\n",
    "    url = 'https://drive.google.com/uc?export=download&id=1SdCK7a5E9_vQKTEmMtEROrq-LBsKlTPE'\n",
    "    data = pd.read_csv(url, dtype={'id': str}, low_memory=False)\n",
    "    return data"
   ]
  },
  {
   "cell_type": "markdown",
   "source": [
    "## Pré-processamento"
   ],
   "metadata": {
    "collapsed": false
   }
  },
  {
   "cell_type": "code",
   "execution_count": 43,
   "outputs": [],
   "source": [
    "def preprocess_data(data):\n",
    "    data['positive_ratings'] = pd.to_numeric(data['positive_ratings'], errors='coerce')\n",
    "    data['negative_ratings'] = pd.to_numeric(data['negative_ratings'], errors='coerce')\n",
    "    data.dropna(subset=['positive_ratings', 'negative_ratings'], inplace=True)\n",
    "    return data"
   ],
   "metadata": {
    "collapsed": false,
    "ExecuteTime": {
     "end_time": "2023-05-31T13:45:15.220220600Z",
     "start_time": "2023-05-31T13:45:15.187178800Z"
    }
   }
  },
  {
   "cell_type": "markdown",
   "source": [
    "## Calcula média"
   ],
   "metadata": {
    "collapsed": false
   }
  },
  {
   "cell_type": "code",
   "execution_count": 44,
   "outputs": [],
   "source": [
    "def calculate_mean_rating(data):\n",
    "    mean_rating = data['positive_ratings'].mean()\n",
    "    return mean_rating"
   ],
   "metadata": {
    "collapsed": false,
    "ExecuteTime": {
     "end_time": "2023-05-31T13:45:15.285282800Z",
     "start_time": "2023-05-31T13:45:15.229219900Z"
    }
   }
  },
  {
   "cell_type": "markdown",
   "source": [
    "## Calcular pontuação"
   ],
   "metadata": {
    "collapsed": false
   }
  },
  {
   "cell_type": "code",
   "execution_count": 45,
   "outputs": [],
   "source": [
    "def calculate_score(row, mean_rating, m):\n",
    "    v = row['positive_ratings']\n",
    "    r = row['negative_ratings']\n",
    "    return (v / (v + m) * r) + (m / (m + v) * mean_rating)"
   ],
   "metadata": {
    "collapsed": false,
    "ExecuteTime": {
     "end_time": "2023-05-31T13:45:15.305235800Z",
     "start_time": "2023-05-31T13:45:15.270285800Z"
    }
   }
  },
  {
   "cell_type": "markdown",
   "source": [
    "##  Filtra para o pré-requisito"
   ],
   "metadata": {
    "collapsed": false
   }
  },
  {
   "cell_type": "code",
   "execution_count": 46,
   "outputs": [],
   "source": [
    "def filter_games(data, m):\n",
    "    filtered_games = data[data['positive_ratings'] >= m].copy()\n",
    "    return filtered_games"
   ],
   "metadata": {
    "collapsed": false,
    "ExecuteTime": {
     "end_time": "2023-05-31T13:45:15.377139500Z",
     "start_time": "2023-05-31T13:45:15.312243400Z"
    }
   }
  },
  {
   "cell_type": "markdown",
   "source": [
    "## Obtem recomendação"
   ],
   "metadata": {
    "collapsed": false
   }
  },
  {
   "cell_type": "code",
   "execution_count": 47,
   "outputs": [],
   "source": [
    "def get_game_recommendations(data, filtered_games, title=None, genre=None, top_n=50, price=None, release_date=None, platforms=None):\n",
    "    games = filtered_games.copy()\n",
    "\n",
    "    if title:\n",
    "        games = games[games['name'].str.contains(title, case=False)]\n",
    "    if genre:\n",
    "        games = games[games['genres'].str.contains(genre, case=False)]\n",
    "    if price is not None:\n",
    "        games = games[games['price'] <= price]\n",
    "    if release_date is not None:\n",
    "        release_date = datetime.strptime(release_date, '%Y-%m-%d').date()\n",
    "        games = games[pd.to_datetime(games['release_date']).dt.date >= release_date]\n",
    "    if platforms:\n",
    "        games = games[games['platforms'].str.contains(platforms, case=False)]\n",
    "\n",
    "    games = games.sort_values('score', ascending=False)\n",
    "    recommendations = games[['name', 'price', 'release_date', 'platforms', 'genres', 'positive_ratings', 'negative_ratings', 'score']].head(top_n)\n",
    "    styled_recommendations = recommendations.style.set_properties(**{'text-align': 'left'})\n",
    "    return styled_recommendations"
   ],
   "metadata": {
    "collapsed": false,
    "ExecuteTime": {
     "end_time": "2023-05-31T13:45:15.510318700Z",
     "start_time": "2023-05-31T13:45:15.397122100Z"
    }
   }
  },
  {
   "cell_type": "markdown",
   "source": [
    "# Execução"
   ],
   "metadata": {
    "id": "M0jLxqXAPUQU"
   }
  },
  {
   "cell_type": "code",
   "source": [
    "data = load_data()\n",
    "data = preprocess_data(data)\n",
    "m = data['positive_ratings'].quantile(0.70)\n",
    "filtered_games = filter_games(data, m)\n",
    "mean_rating = calculate_mean_rating(data)\n",
    "filtered_games['score'] = filtered_games.apply(calculate_score, args=(mean_rating, m), axis=1)"
   ],
   "metadata": {
    "colab": {
     "base_uri": "https://localhost:8080/",
     "height": 1000
    },
    "id": "Rri71KXMlNpa",
    "outputId": "f6ba6c04-5400-4ef1-8948-e7e78b48dfad",
    "ExecuteTime": {
     "end_time": "2023-05-31T13:45:18.116051100Z",
     "start_time": "2023-05-31T13:45:15.512316100Z"
    }
   },
   "execution_count": 48,
   "outputs": []
  },
  {
   "cell_type": "markdown",
   "source": [
    "## Testes"
   ],
   "metadata": {
    "collapsed": false
   }
  },
  {
   "cell_type": "code",
   "execution_count": 49,
   "outputs": [
    {
     "data": {
      "text/plain": "<pandas.io.formats.style.Styler at 0x240d4c15150>",
      "text/html": "<style type=\"text/css\">\n#T_0f9fa_row0_col0, #T_0f9fa_row0_col1, #T_0f9fa_row0_col2, #T_0f9fa_row0_col3, #T_0f9fa_row0_col4, #T_0f9fa_row0_col5, #T_0f9fa_row0_col6, #T_0f9fa_row0_col7, #T_0f9fa_row1_col0, #T_0f9fa_row1_col1, #T_0f9fa_row1_col2, #T_0f9fa_row1_col3, #T_0f9fa_row1_col4, #T_0f9fa_row1_col5, #T_0f9fa_row1_col6, #T_0f9fa_row1_col7, #T_0f9fa_row2_col0, #T_0f9fa_row2_col1, #T_0f9fa_row2_col2, #T_0f9fa_row2_col3, #T_0f9fa_row2_col4, #T_0f9fa_row2_col5, #T_0f9fa_row2_col6, #T_0f9fa_row2_col7, #T_0f9fa_row3_col0, #T_0f9fa_row3_col1, #T_0f9fa_row3_col2, #T_0f9fa_row3_col3, #T_0f9fa_row3_col4, #T_0f9fa_row3_col5, #T_0f9fa_row3_col6, #T_0f9fa_row3_col7, #T_0f9fa_row4_col0, #T_0f9fa_row4_col1, #T_0f9fa_row4_col2, #T_0f9fa_row4_col3, #T_0f9fa_row4_col4, #T_0f9fa_row4_col5, #T_0f9fa_row4_col6, #T_0f9fa_row4_col7, #T_0f9fa_row5_col0, #T_0f9fa_row5_col1, #T_0f9fa_row5_col2, #T_0f9fa_row5_col3, #T_0f9fa_row5_col4, #T_0f9fa_row5_col5, #T_0f9fa_row5_col6, #T_0f9fa_row5_col7, #T_0f9fa_row6_col0, #T_0f9fa_row6_col1, #T_0f9fa_row6_col2, #T_0f9fa_row6_col3, #T_0f9fa_row6_col4, #T_0f9fa_row6_col5, #T_0f9fa_row6_col6, #T_0f9fa_row6_col7, #T_0f9fa_row7_col0, #T_0f9fa_row7_col1, #T_0f9fa_row7_col2, #T_0f9fa_row7_col3, #T_0f9fa_row7_col4, #T_0f9fa_row7_col5, #T_0f9fa_row7_col6, #T_0f9fa_row7_col7, #T_0f9fa_row8_col0, #T_0f9fa_row8_col1, #T_0f9fa_row8_col2, #T_0f9fa_row8_col3, #T_0f9fa_row8_col4, #T_0f9fa_row8_col5, #T_0f9fa_row8_col6, #T_0f9fa_row8_col7, #T_0f9fa_row9_col0, #T_0f9fa_row9_col1, #T_0f9fa_row9_col2, #T_0f9fa_row9_col3, #T_0f9fa_row9_col4, #T_0f9fa_row9_col5, #T_0f9fa_row9_col6, #T_0f9fa_row9_col7 {\n  text-align: left;\n}\n</style>\n<table id=\"T_0f9fa\">\n  <thead>\n    <tr>\n      <th class=\"blank level0\" >&nbsp;</th>\n      <th id=\"T_0f9fa_level0_col0\" class=\"col_heading level0 col0\" >name</th>\n      <th id=\"T_0f9fa_level0_col1\" class=\"col_heading level0 col1\" >price</th>\n      <th id=\"T_0f9fa_level0_col2\" class=\"col_heading level0 col2\" >release_date</th>\n      <th id=\"T_0f9fa_level0_col3\" class=\"col_heading level0 col3\" >platforms</th>\n      <th id=\"T_0f9fa_level0_col4\" class=\"col_heading level0 col4\" >genres</th>\n      <th id=\"T_0f9fa_level0_col5\" class=\"col_heading level0 col5\" >positive_ratings</th>\n      <th id=\"T_0f9fa_level0_col6\" class=\"col_heading level0 col6\" >negative_ratings</th>\n      <th id=\"T_0f9fa_level0_col7\" class=\"col_heading level0 col7\" >score</th>\n    </tr>\n  </thead>\n  <tbody>\n    <tr>\n      <th id=\"T_0f9fa_level0_row0\" class=\"row_heading level0 row0\" >3509</th>\n      <td id=\"T_0f9fa_row0_col0\" class=\"data row0 col0\" >Naval Action</td>\n      <td id=\"T_0f9fa_row0_col1\" class=\"data row0 col1\" >29.990000</td>\n      <td id=\"T_0f9fa_row0_col2\" class=\"data row0 col2\" >2016-01-21</td>\n      <td id=\"T_0f9fa_row0_col3\" class=\"data row0 col3\" >windows</td>\n      <td id=\"T_0f9fa_row0_col4\" class=\"data row0 col4\" >Action;Adventure;Indie;Massively Multiplayer;Simulation;Strategy;Early Access</td>\n      <td id=\"T_0f9fa_row0_col5\" class=\"data row0 col5\" >3117</td>\n      <td id=\"T_0f9fa_row0_col6\" class=\"data row0 col6\" >2029</td>\n      <td id=\"T_0f9fa_row0_col7\" class=\"data row0 col7\" >2002.324799</td>\n    </tr>\n    <tr>\n      <th id=\"T_0f9fa_level0_row1\" class=\"row_heading level0 row1\" >14503</th>\n      <td id=\"T_0f9fa_row1_col0\" class=\"data row1 col0\" >SoulWorker - Anime Action MMO</td>\n      <td id=\"T_0f9fa_row1_col1\" class=\"data row1 col1\" >0.000000</td>\n      <td id=\"T_0f9fa_row1_col2\" class=\"data row1 col2\" >2018-02-26</td>\n      <td id=\"T_0f9fa_row1_col3\" class=\"data row1 col3\" >windows</td>\n      <td id=\"T_0f9fa_row1_col4\" class=\"data row1 col4\" >Action;Free to Play;Massively Multiplayer;RPG</td>\n      <td id=\"T_0f9fa_row1_col5\" class=\"data row1 col5\" >5953</td>\n      <td id=\"T_0f9fa_row1_col6\" class=\"data row1 col6\" >1904</td>\n      <td id=\"T_0f9fa_row1_col7\" class=\"data row1 col7\" >1891.576931</td>\n    </tr>\n    <tr>\n      <th id=\"T_0f9fa_level0_row2\" class=\"row_heading level0 row2\" >3742</th>\n      <td id=\"T_0f9fa_row2_col0\" class=\"data row2 col0\" >Enforcer: Police Crime Action</td>\n      <td id=\"T_0f9fa_row2_col1\" class=\"data row2 col1\" >14.990000</td>\n      <td id=\"T_0f9fa_row2_col2\" class=\"data row2 col2\" >2014-10-24</td>\n      <td id=\"T_0f9fa_row2_col3\" class=\"data row2 col3\" >windows;mac</td>\n      <td id=\"T_0f9fa_row2_col4\" class=\"data row2 col4\" >Action;Adventure;Simulation</td>\n      <td id=\"T_0f9fa_row2_col5\" class=\"data row2 col5\" >1028</td>\n      <td id=\"T_0f9fa_row2_col6\" class=\"data row2 col6\" >1119</td>\n      <td id=\"T_0f9fa_row2_col7\" class=\"data row2 col7\" >1110.151537</td>\n    </tr>\n    <tr>\n      <th id=\"T_0f9fa_level0_row3\" class=\"row_heading level0 row3\" >928</th>\n      <td id=\"T_0f9fa_row3_col0\" class=\"data row3 col0\" >Red Faction®: Armageddon™</td>\n      <td id=\"T_0f9fa_row3_col1\" class=\"data row3 col1\" >14.990000</td>\n      <td id=\"T_0f9fa_row3_col2\" class=\"data row3 col2\" >2011-06-09</td>\n      <td id=\"T_0f9fa_row3_col3\" class=\"data row3 col3\" >windows</td>\n      <td id=\"T_0f9fa_row3_col4\" class=\"data row3 col4\" >Action</td>\n      <td id=\"T_0f9fa_row3_col5\" class=\"data row3 col5\" >2674</td>\n      <td id=\"T_0f9fa_row3_col6\" class=\"data row3 col6\" >1005</td>\n      <td id=\"T_0f9fa_row3_col7\" class=\"data row3 col7\" >1004.866288</td>\n    </tr>\n    <tr>\n      <th id=\"T_0f9fa_level0_row4\" class=\"row_heading level0 row4\" >3719</th>\n      <td id=\"T_0f9fa_row4_col0\" class=\"data row4 col0\" >Double Action: Boogaloo</td>\n      <td id=\"T_0f9fa_row4_col1\" class=\"data row4 col1\" >0.000000</td>\n      <td id=\"T_0f9fa_row4_col2\" class=\"data row4 col2\" >2014-10-23</td>\n      <td id=\"T_0f9fa_row4_col3\" class=\"data row4 col3\" >windows;linux</td>\n      <td id=\"T_0f9fa_row4_col4\" class=\"data row4 col4\" >Action;Free to Play;Indie</td>\n      <td id=\"T_0f9fa_row4_col5\" class=\"data row4 col5\" >9252</td>\n      <td id=\"T_0f9fa_row4_col6\" class=\"data row4 col6\" >786</td>\n      <td id=\"T_0f9fa_row4_col7\" class=\"data row4 col7\" >787.907698</td>\n    </tr>\n    <tr>\n      <th id=\"T_0f9fa_level0_row5\" class=\"row_heading level0 row5\" >7341</th>\n      <td id=\"T_0f9fa_row5_col0\" class=\"data row5 col0\" >Tempest: Pirate Action RPG</td>\n      <td id=\"T_0f9fa_row5_col1\" class=\"data row5 col1\" >14.990000</td>\n      <td id=\"T_0f9fa_row5_col2\" class=\"data row5 col2\" >2016-08-22</td>\n      <td id=\"T_0f9fa_row5_col3\" class=\"data row5 col3\" >windows;mac</td>\n      <td id=\"T_0f9fa_row5_col4\" class=\"data row5 col4\" >Action;Indie;RPG</td>\n      <td id=\"T_0f9fa_row5_col5\" class=\"data row5 col5\" >1221</td>\n      <td id=\"T_0f9fa_row5_col6\" class=\"data row5 col6\" >501</td>\n      <td id=\"T_0f9fa_row5_col7\" class=\"data row5 col7\" >532.797053</td>\n    </tr>\n    <tr>\n      <th id=\"T_0f9fa_level0_row6\" class=\"row_heading level0 row6\" >11206</th>\n      <td id=\"T_0f9fa_row6_col0\" class=\"data row6 col0\" >Fast Action Hero</td>\n      <td id=\"T_0f9fa_row6_col1\" class=\"data row6 col1\" >8.990000</td>\n      <td id=\"T_0f9fa_row6_col2\" class=\"data row6 col2\" >2016-10-03</td>\n      <td id=\"T_0f9fa_row6_col3\" class=\"data row6 col3\" >windows</td>\n      <td id=\"T_0f9fa_row6_col4\" class=\"data row6 col4\" >Violent;Action;Casual;Indie;Strategy;Early Access</td>\n      <td id=\"T_0f9fa_row6_col5\" class=\"data row6 col5\" >83</td>\n      <td id=\"T_0f9fa_row6_col6\" class=\"data row6 col6\" >11</td>\n      <td id=\"T_0f9fa_row6_col7\" class=\"data row6 col7\" >505.779261</td>\n    </tr>\n    <tr>\n      <th id=\"T_0f9fa_level0_row7\" class=\"row_heading level0 row7\" >8229</th>\n      <td id=\"T_0f9fa_row7_col0\" class=\"data row7 col0\" >Smash Up: Conquer the bases with your factions</td>\n      <td id=\"T_0f9fa_row7_col1\" class=\"data row7 col1\" >5.190000</td>\n      <td id=\"T_0f9fa_row7_col2\" class=\"data row7 col2\" >2016-10-12</td>\n      <td id=\"T_0f9fa_row7_col3\" class=\"data row7 col3\" >windows</td>\n      <td id=\"T_0f9fa_row7_col4\" class=\"data row7 col4\" >Strategy</td>\n      <td id=\"T_0f9fa_row7_col5\" class=\"data row7 col5\" >102</td>\n      <td id=\"T_0f9fa_row7_col6\" class=\"data row7 col6\" >75</td>\n      <td id=\"T_0f9fa_row7_col7\" class=\"data row7 col7\" >490.250580</td>\n    </tr>\n    <tr>\n      <th id=\"T_0f9fa_level0_row8\" class=\"row_heading level0 row8\" >5177</th>\n      <td id=\"T_0f9fa_row8_col0\" class=\"data row8 col0\" >No Turning Back: The Pixel Art Action-Adventure Roguelike</td>\n      <td id=\"T_0f9fa_row8_col1\" class=\"data row8 col1\" >1.990000</td>\n      <td id=\"T_0f9fa_row8_col2\" class=\"data row8 col2\" >2016-01-15</td>\n      <td id=\"T_0f9fa_row8_col3\" class=\"data row8 col3\" >windows</td>\n      <td id=\"T_0f9fa_row8_col4\" class=\"data row8 col4\" >Action;Adventure;Indie;RPG;Early Access</td>\n      <td id=\"T_0f9fa_row8_col5\" class=\"data row8 col5\" >116</td>\n      <td id=\"T_0f9fa_row8_col6\" class=\"data row8 col6\" >94</td>\n      <td id=\"T_0f9fa_row8_col7\" class=\"data row8 col7\" >472.112349</td>\n    </tr>\n    <tr>\n      <th id=\"T_0f9fa_level0_row9\" class=\"row_heading level0 row9\" >14051</th>\n      <td id=\"T_0f9fa_row9_col0\" class=\"data row9 col0\" >Runic Rampage - Action RPG</td>\n      <td id=\"T_0f9fa_row9_col1\" class=\"data row9 col1\" >4.990000</td>\n      <td id=\"T_0f9fa_row9_col2\" class=\"data row9 col2\" >2017-05-17</td>\n      <td id=\"T_0f9fa_row9_col3\" class=\"data row9 col3\" >windows;mac;linux</td>\n      <td id=\"T_0f9fa_row9_col4\" class=\"data row9 col4\" >Action;Adventure;Indie;RPG</td>\n      <td id=\"T_0f9fa_row9_col5\" class=\"data row9 col5\" >97</td>\n      <td id=\"T_0f9fa_row9_col6\" class=\"data row9 col6\" >13</td>\n      <td id=\"T_0f9fa_row9_col7\" class=\"data row9 col7\" >468.374208</td>\n    </tr>\n  </tbody>\n</table>\n"
     },
     "metadata": {},
     "output_type": "display_data"
    }
   ],
   "source": [
    "recommendations = get_game_recommendations(data, filtered_games, title='Action', top_n=10)\n",
    "display(recommendations)"
   ],
   "metadata": {
    "collapsed": false,
    "ExecuteTime": {
     "end_time": "2023-05-31T13:45:18.189815800Z",
     "start_time": "2023-05-31T13:45:18.112053800Z"
    }
   }
  },
  {
   "cell_type": "code",
   "execution_count": 50,
   "outputs": [
    {
     "data": {
      "text/plain": "<pandas.io.formats.style.Styler at 0x240d7250410>",
      "text/html": "<style type=\"text/css\">\n#T_efcd2_row0_col0, #T_efcd2_row0_col1, #T_efcd2_row0_col2, #T_efcd2_row0_col3, #T_efcd2_row0_col4, #T_efcd2_row0_col5, #T_efcd2_row0_col6, #T_efcd2_row0_col7, #T_efcd2_row1_col0, #T_efcd2_row1_col1, #T_efcd2_row1_col2, #T_efcd2_row1_col3, #T_efcd2_row1_col4, #T_efcd2_row1_col5, #T_efcd2_row1_col6, #T_efcd2_row1_col7, #T_efcd2_row2_col0, #T_efcd2_row2_col1, #T_efcd2_row2_col2, #T_efcd2_row2_col3, #T_efcd2_row2_col4, #T_efcd2_row2_col5, #T_efcd2_row2_col6, #T_efcd2_row2_col7, #T_efcd2_row3_col0, #T_efcd2_row3_col1, #T_efcd2_row3_col2, #T_efcd2_row3_col3, #T_efcd2_row3_col4, #T_efcd2_row3_col5, #T_efcd2_row3_col6, #T_efcd2_row3_col7, #T_efcd2_row4_col0, #T_efcd2_row4_col1, #T_efcd2_row4_col2, #T_efcd2_row4_col3, #T_efcd2_row4_col4, #T_efcd2_row4_col5, #T_efcd2_row4_col6, #T_efcd2_row4_col7, #T_efcd2_row5_col0, #T_efcd2_row5_col1, #T_efcd2_row5_col2, #T_efcd2_row5_col3, #T_efcd2_row5_col4, #T_efcd2_row5_col5, #T_efcd2_row5_col6, #T_efcd2_row5_col7, #T_efcd2_row6_col0, #T_efcd2_row6_col1, #T_efcd2_row6_col2, #T_efcd2_row6_col3, #T_efcd2_row6_col4, #T_efcd2_row6_col5, #T_efcd2_row6_col6, #T_efcd2_row6_col7, #T_efcd2_row7_col0, #T_efcd2_row7_col1, #T_efcd2_row7_col2, #T_efcd2_row7_col3, #T_efcd2_row7_col4, #T_efcd2_row7_col5, #T_efcd2_row7_col6, #T_efcd2_row7_col7, #T_efcd2_row8_col0, #T_efcd2_row8_col1, #T_efcd2_row8_col2, #T_efcd2_row8_col3, #T_efcd2_row8_col4, #T_efcd2_row8_col5, #T_efcd2_row8_col6, #T_efcd2_row8_col7, #T_efcd2_row9_col0, #T_efcd2_row9_col1, #T_efcd2_row9_col2, #T_efcd2_row9_col3, #T_efcd2_row9_col4, #T_efcd2_row9_col5, #T_efcd2_row9_col6, #T_efcd2_row9_col7 {\n  text-align: left;\n}\n</style>\n<table id=\"T_efcd2\">\n  <thead>\n    <tr>\n      <th class=\"blank level0\" >&nbsp;</th>\n      <th id=\"T_efcd2_level0_col0\" class=\"col_heading level0 col0\" >name</th>\n      <th id=\"T_efcd2_level0_col1\" class=\"col_heading level0 col1\" >price</th>\n      <th id=\"T_efcd2_level0_col2\" class=\"col_heading level0 col2\" >release_date</th>\n      <th id=\"T_efcd2_level0_col3\" class=\"col_heading level0 col3\" >platforms</th>\n      <th id=\"T_efcd2_level0_col4\" class=\"col_heading level0 col4\" >genres</th>\n      <th id=\"T_efcd2_level0_col5\" class=\"col_heading level0 col5\" >positive_ratings</th>\n      <th id=\"T_efcd2_level0_col6\" class=\"col_heading level0 col6\" >negative_ratings</th>\n      <th id=\"T_efcd2_level0_col7\" class=\"col_heading level0 col7\" >score</th>\n    </tr>\n  </thead>\n  <tbody>\n    <tr>\n      <th id=\"T_efcd2_level0_row0\" class=\"row_heading level0 row0\" >1727</th>\n      <td id=\"T_efcd2_row0_col0\" class=\"data row0 col0\" >War Thunder</td>\n      <td id=\"T_efcd2_row0_col1\" class=\"data row0 col1\" >0.000000</td>\n      <td id=\"T_efcd2_row0_col2\" class=\"data row0 col2\" >2013-08-15</td>\n      <td id=\"T_efcd2_row0_col3\" class=\"data row0 col3\" >windows;mac;linux</td>\n      <td id=\"T_efcd2_row0_col4\" class=\"data row0 col4\" >Action;Free to Play;Massively Multiplayer;Simulation</td>\n      <td id=\"T_efcd2_row0_col5\" class=\"data row0 col5\" >83852</td>\n      <td id=\"T_efcd2_row0_col6\" class=\"data row0 col6\" >22166</td>\n      <td id=\"T_efcd2_row0_col7\" class=\"data row0 col7\" >22145.070332</td>\n    </tr>\n    <tr>\n      <th id=\"T_efcd2_level0_row1\" class=\"row_heading level0 row1\" >1634</th>\n      <td id=\"T_efcd2_row1_col0\" class=\"data row1 col0\" >Warframe</td>\n      <td id=\"T_efcd2_row1_col1\" class=\"data row1 col1\" >0.000000</td>\n      <td id=\"T_efcd2_row1_col2\" class=\"data row1 col2\" >2013-03-25</td>\n      <td id=\"T_efcd2_row1_col3\" class=\"data row1 col3\" >windows</td>\n      <td id=\"T_efcd2_row1_col4\" class=\"data row1 col4\" >Action;Free to Play</td>\n      <td id=\"T_efcd2_row1_col5\" class=\"data row1 col5\" >226541</td>\n      <td id=\"T_efcd2_row1_col6\" class=\"data row1 col6\" >20268</td>\n      <td id=\"T_efcd2_row1_col7\" class=\"data row1 col7\" >20260.943388</td>\n    </tr>\n    <tr>\n      <th id=\"T_efcd2_level0_row2\" class=\"row_heading level0 row2\" >2951</th>\n      <td id=\"T_efcd2_row2_col0\" class=\"data row2 col0\" >Warface</td>\n      <td id=\"T_efcd2_row2_col1\" class=\"data row2 col1\" >0.000000</td>\n      <td id=\"T_efcd2_row2_col2\" class=\"data row2 col2\" >2014-07-01</td>\n      <td id=\"T_efcd2_row2_col3\" class=\"data row2 col3\" >windows</td>\n      <td id=\"T_efcd2_row2_col4\" class=\"data row2 col4\" >Action;Free to Play;Massively Multiplayer</td>\n      <td id=\"T_efcd2_row2_col5\" class=\"data row2 col5\" >32751</td>\n      <td id=\"T_efcd2_row2_col6\" class=\"data row2 col6\" >14409</td>\n      <td id=\"T_efcd2_row2_col7\" class=\"data row2 col7\" >14375.105237</td>\n    </tr>\n    <tr>\n      <th id=\"T_efcd2_level0_row3\" class=\"row_heading level0 row3\" >1421</th>\n      <td id=\"T_efcd2_row3_col0\" class=\"data row3 col0\" >Total War™: ROME II - Emperor Edition</td>\n      <td id=\"T_efcd2_row3_col1\" class=\"data row3 col1\" >29.990000</td>\n      <td id=\"T_efcd2_row3_col2\" class=\"data row3 col2\" >2013-09-02</td>\n      <td id=\"T_efcd2_row3_col3\" class=\"data row3 col3\" >windows;mac</td>\n      <td id=\"T_efcd2_row3_col4\" class=\"data row3 col4\" >Strategy</td>\n      <td id=\"T_efcd2_row3_col5\" class=\"data row3 col5\" >31864</td>\n      <td id=\"T_efcd2_row3_col6\" class=\"data row3 col6\" >13423</td>\n      <td id=\"T_efcd2_row3_col7\" class=\"data row3 col7\" >13390.725838</td>\n    </tr>\n    <tr>\n      <th id=\"T_efcd2_level0_row4\" class=\"row_heading level0 row4\" >1479</th>\n      <td id=\"T_efcd2_row4_col0\" class=\"data row4 col0\" >Chivalry: Medieval Warfare</td>\n      <td id=\"T_efcd2_row4_col1\" class=\"data row4 col1\" >18.990000</td>\n      <td id=\"T_efcd2_row4_col2\" class=\"data row4 col2\" >2012-10-16</td>\n      <td id=\"T_efcd2_row4_col3\" class=\"data row4 col3\" >windows;mac;linux</td>\n      <td id=\"T_efcd2_row4_col4\" class=\"data row4 col4\" >Action;Indie</td>\n      <td id=\"T_efcd2_row4_col5\" class=\"data row4 col5\" >51499</td>\n      <td id=\"T_efcd2_row4_col6\" class=\"data row4 col6\" >10939</td>\n      <td id=\"T_efcd2_row4_col7\" class=\"data row4 col7\" >10923.008169</td>\n    </tr>\n    <tr>\n      <th id=\"T_efcd2_level0_row5\" class=\"row_heading level0 row5\" >2991</th>\n      <td id=\"T_efcd2_row5_col0\" class=\"data row5 col0\" >Call of Duty®: Infinite Warfare</td>\n      <td id=\"T_efcd2_row5_col1\" class=\"data row5 col1\" >39.990000</td>\n      <td id=\"T_efcd2_row5_col2\" class=\"data row5 col2\" >2016-11-03</td>\n      <td id=\"T_efcd2_row5_col3\" class=\"data row5 col3\" >windows</td>\n      <td id=\"T_efcd2_row5_col4\" class=\"data row5 col4\" >Action;Adventure</td>\n      <td id=\"T_efcd2_row5_col5\" class=\"data row5 col5\" >7821</td>\n      <td id=\"T_efcd2_row5_col6\" class=\"data row5 col6\" >10570</td>\n      <td id=\"T_efcd2_row5_col7\" class=\"data row5 col7\" >10469.511179</td>\n    </tr>\n    <tr>\n      <th id=\"T_efcd2_level0_row6\" class=\"row_heading level0 row6\" >5404</th>\n      <td id=\"T_efcd2_row6_col0\" class=\"data row6 col0\" >Total War: WARHAMMER</td>\n      <td id=\"T_efcd2_row6_col1\" class=\"data row6 col1\" >39.990000</td>\n      <td id=\"T_efcd2_row6_col2\" class=\"data row6 col2\" >2016-05-24</td>\n      <td id=\"T_efcd2_row6_col3\" class=\"data row6 col3\" >windows;mac;linux</td>\n      <td id=\"T_efcd2_row6_col4\" class=\"data row6 col4\" >Action;Strategy</td>\n      <td id=\"T_efcd2_row6_col5\" class=\"data row6 col5\" >29826</td>\n      <td id=\"T_efcd2_row6_col6\" class=\"data row6 col6\" >9878</td>\n      <td id=\"T_efcd2_row6_col7\" class=\"data row6 col7\" >9853.364350</td>\n    </tr>\n    <tr>\n      <th id=\"T_efcd2_level0_row7\" class=\"row_heading level0 row7\" >1346</th>\n      <td id=\"T_efcd2_row7_col0\" class=\"data row7 col0\" >Call of Duty®: Advanced Warfare - Gold Edition</td>\n      <td id=\"T_efcd2_row7_col1\" class=\"data row7 col1\" >39.990000</td>\n      <td id=\"T_efcd2_row7_col2\" class=\"data row7 col2\" >2014-11-03</td>\n      <td id=\"T_efcd2_row7_col3\" class=\"data row7 col3\" >windows</td>\n      <td id=\"T_efcd2_row7_col4\" class=\"data row7 col4\" >Action</td>\n      <td id=\"T_efcd2_row7_col5\" class=\"data row7 col5\" >13389</td>\n      <td id=\"T_efcd2_row7_col6\" class=\"data row7 col6\" >8379</td>\n      <td id=\"T_efcd2_row7_col7\" class=\"data row7 col7\" >8333.541965</td>\n    </tr>\n    <tr>\n      <th id=\"T_efcd2_level0_row8\" class=\"row_heading level0 row8\" >2775</th>\n      <td id=\"T_efcd2_row8_col0\" class=\"data row8 col0\" >Warhammer 40,000: Dawn of War III</td>\n      <td id=\"T_efcd2_row8_col1\" class=\"data row8 col1\" >29.990000</td>\n      <td id=\"T_efcd2_row8_col2\" class=\"data row8 col2\" >2017-04-27</td>\n      <td id=\"T_efcd2_row8_col3\" class=\"data row8 col3\" >windows;mac;linux</td>\n      <td id=\"T_efcd2_row8_col4\" class=\"data row8 col4\" >Violent;Gore;Action;Simulation;Strategy</td>\n      <td id=\"T_efcd2_row8_col5\" class=\"data row8 col5\" >6793</td>\n      <td id=\"T_efcd2_row8_col6\" class=\"data row8 col6\" >8336</td>\n      <td id=\"T_efcd2_row8_col7\" class=\"data row8 col7\" >8247.454095</td>\n    </tr>\n    <tr>\n      <th id=\"T_efcd2_level0_row9\" class=\"row_heading level0 row9\" >11867</th>\n      <td id=\"T_efcd2_row9_col0\" class=\"data row9 col0\" >Warhammer: Vermintide 2</td>\n      <td id=\"T_efcd2_row9_col1\" class=\"data row9 col1\" >23.790000</td>\n      <td id=\"T_efcd2_row9_col2\" class=\"data row9 col2\" >2018-03-08</td>\n      <td id=\"T_efcd2_row9_col3\" class=\"data row9 col3\" >windows</td>\n      <td id=\"T_efcd2_row9_col4\" class=\"data row9 col4\" >Action</td>\n      <td id=\"T_efcd2_row9_col5\" class=\"data row9 col5\" >21509</td>\n      <td id=\"T_efcd2_row9_col6\" class=\"data row9 col6\" >7336</td>\n      <td id=\"T_efcd2_row9_col7\" class=\"data row9 col7\" >7311.646460</td>\n    </tr>\n  </tbody>\n</table>\n"
     },
     "metadata": {},
     "output_type": "display_data"
    }
   ],
   "source": [
    "recommendations = get_game_recommendations(data, filtered_games, title='War', top_n=10)\n",
    "display(recommendations)"
   ],
   "metadata": {
    "collapsed": false,
    "ExecuteTime": {
     "end_time": "2023-05-31T13:45:18.247440200Z",
     "start_time": "2023-05-31T13:45:18.179811300Z"
    }
   }
  },
  {
   "cell_type": "code",
   "execution_count": 51,
   "outputs": [
    {
     "data": {
      "text/plain": "<pandas.io.formats.style.Styler at 0x240d71b30d0>",
      "text/html": "<style type=\"text/css\">\n#T_96a40_row0_col0, #T_96a40_row0_col1, #T_96a40_row0_col2, #T_96a40_row0_col3, #T_96a40_row0_col4, #T_96a40_row0_col5, #T_96a40_row0_col6, #T_96a40_row0_col7, #T_96a40_row1_col0, #T_96a40_row1_col1, #T_96a40_row1_col2, #T_96a40_row1_col3, #T_96a40_row1_col4, #T_96a40_row1_col5, #T_96a40_row1_col6, #T_96a40_row1_col7, #T_96a40_row2_col0, #T_96a40_row2_col1, #T_96a40_row2_col2, #T_96a40_row2_col3, #T_96a40_row2_col4, #T_96a40_row2_col5, #T_96a40_row2_col6, #T_96a40_row2_col7, #T_96a40_row3_col0, #T_96a40_row3_col1, #T_96a40_row3_col2, #T_96a40_row3_col3, #T_96a40_row3_col4, #T_96a40_row3_col5, #T_96a40_row3_col6, #T_96a40_row3_col7, #T_96a40_row4_col0, #T_96a40_row4_col1, #T_96a40_row4_col2, #T_96a40_row4_col3, #T_96a40_row4_col4, #T_96a40_row4_col5, #T_96a40_row4_col6, #T_96a40_row4_col7, #T_96a40_row5_col0, #T_96a40_row5_col1, #T_96a40_row5_col2, #T_96a40_row5_col3, #T_96a40_row5_col4, #T_96a40_row5_col5, #T_96a40_row5_col6, #T_96a40_row5_col7, #T_96a40_row6_col0, #T_96a40_row6_col1, #T_96a40_row6_col2, #T_96a40_row6_col3, #T_96a40_row6_col4, #T_96a40_row6_col5, #T_96a40_row6_col6, #T_96a40_row6_col7, #T_96a40_row7_col0, #T_96a40_row7_col1, #T_96a40_row7_col2, #T_96a40_row7_col3, #T_96a40_row7_col4, #T_96a40_row7_col5, #T_96a40_row7_col6, #T_96a40_row7_col7, #T_96a40_row8_col0, #T_96a40_row8_col1, #T_96a40_row8_col2, #T_96a40_row8_col3, #T_96a40_row8_col4, #T_96a40_row8_col5, #T_96a40_row8_col6, #T_96a40_row8_col7, #T_96a40_row9_col0, #T_96a40_row9_col1, #T_96a40_row9_col2, #T_96a40_row9_col3, #T_96a40_row9_col4, #T_96a40_row9_col5, #T_96a40_row9_col6, #T_96a40_row9_col7 {\n  text-align: left;\n}\n</style>\n<table id=\"T_96a40\">\n  <thead>\n    <tr>\n      <th class=\"blank level0\" >&nbsp;</th>\n      <th id=\"T_96a40_level0_col0\" class=\"col_heading level0 col0\" >name</th>\n      <th id=\"T_96a40_level0_col1\" class=\"col_heading level0 col1\" >price</th>\n      <th id=\"T_96a40_level0_col2\" class=\"col_heading level0 col2\" >release_date</th>\n      <th id=\"T_96a40_level0_col3\" class=\"col_heading level0 col3\" >platforms</th>\n      <th id=\"T_96a40_level0_col4\" class=\"col_heading level0 col4\" >genres</th>\n      <th id=\"T_96a40_level0_col5\" class=\"col_heading level0 col5\" >positive_ratings</th>\n      <th id=\"T_96a40_level0_col6\" class=\"col_heading level0 col6\" >negative_ratings</th>\n      <th id=\"T_96a40_level0_col7\" class=\"col_heading level0 col7\" >score</th>\n    </tr>\n  </thead>\n  <tbody>\n    <tr>\n      <th id=\"T_96a40_level0_row0\" class=\"row_heading level0 row0\" >12836</th>\n      <td id=\"T_96a40_row0_col0\" class=\"data row0 col0\" >PLAYERUNKNOWN'S BATTLEGROUNDS</td>\n      <td id=\"T_96a40_row0_col1\" class=\"data row0 col1\" >26.990000</td>\n      <td id=\"T_96a40_row0_col2\" class=\"data row0 col2\" >2017-12-21</td>\n      <td id=\"T_96a40_row0_col3\" class=\"data row0 col3\" >windows</td>\n      <td id=\"T_96a40_row0_col4\" class=\"data row0 col4\" >Action;Adventure;Massively Multiplayer</td>\n      <td id=\"T_96a40_row0_col5\" class=\"data row0 col5\" >496184</td>\n      <td id=\"T_96a40_row0_col6\" class=\"data row0 col6\" >487076</td>\n      <td id=\"T_96a40_row0_col7\" class=\"data row0 col7\" >486994.704525</td>\n    </tr>\n    <tr>\n      <th id=\"T_96a40_level0_row1\" class=\"row_heading level0 row1\" >25</th>\n      <td id=\"T_96a40_row1_col0\" class=\"data row1 col0\" >Counter-Strike: Global Offensive</td>\n      <td id=\"T_96a40_row1_col1\" class=\"data row1 col1\" >0.000000</td>\n      <td id=\"T_96a40_row1_col2\" class=\"data row1 col2\" >2012-08-21</td>\n      <td id=\"T_96a40_row1_col3\" class=\"data row1 col3\" >windows;mac;linux</td>\n      <td id=\"T_96a40_row1_col4\" class=\"data row1 col4\" >Action;Free to Play</td>\n      <td id=\"T_96a40_row1_col5\" class=\"data row1 col5\" >2644404</td>\n      <td id=\"T_96a40_row1_col6\" class=\"data row1 col6\" >402313</td>\n      <td id=\"T_96a40_row1_col7\" class=\"data row1 col7\" >402300.404388</td>\n    </tr>\n    <tr>\n      <th id=\"T_96a40_level0_row2\" class=\"row_heading level0 row2\" >22</th>\n      <td id=\"T_96a40_row2_col0\" class=\"data row2 col0\" >Dota 2</td>\n      <td id=\"T_96a40_row2_col1\" class=\"data row2 col1\" >0.000000</td>\n      <td id=\"T_96a40_row2_col2\" class=\"data row2 col2\" >2013-07-09</td>\n      <td id=\"T_96a40_row2_col3\" class=\"data row2 col3\" >windows;mac;linux</td>\n      <td id=\"T_96a40_row2_col4\" class=\"data row2 col4\" >Action;Free to Play;Strategy</td>\n      <td id=\"T_96a40_row2_col5\" class=\"data row2 col5\" >863507</td>\n      <td id=\"T_96a40_row2_col6\" class=\"data row2 col6\" >142079</td>\n      <td id=\"T_96a40_row2_col7\" class=\"data row2 col7\" >142065.440891</td>\n    </tr>\n    <tr>\n      <th id=\"T_96a40_level0_row3\" class=\"row_heading level0 row3\" >2478</th>\n      <td id=\"T_96a40_row3_col0\" class=\"data row3 col0\" >Grand Theft Auto V</td>\n      <td id=\"T_96a40_row3_col1\" class=\"data row3 col1\" >24.990000</td>\n      <td id=\"T_96a40_row3_col2\" class=\"data row3 col2\" >2015-04-13</td>\n      <td id=\"T_96a40_row3_col3\" class=\"data row3 col3\" >windows</td>\n      <td id=\"T_96a40_row3_col4\" class=\"data row3 col4\" >Action;Adventure</td>\n      <td id=\"T_96a40_row3_col5\" class=\"data row3 col5\" >329061</td>\n      <td id=\"T_96a40_row3_col6\" class=\"data row3 col6\" >139308</td>\n      <td id=\"T_96a40_row3_col7\" class=\"data row3 col7\" >139273.123114</td>\n    </tr>\n    <tr>\n      <th id=\"T_96a40_level0_row4\" class=\"row_heading level0 row4\" >7809</th>\n      <td id=\"T_96a40_row4_col0\" class=\"data row4 col0\" >Z1 Battle Royale</td>\n      <td id=\"T_96a40_row4_col1\" class=\"data row4 col1\" >0.000000</td>\n      <td id=\"T_96a40_row4_col2\" class=\"data row4 col2\" >2018-02-28</td>\n      <td id=\"T_96a40_row4_col3\" class=\"data row4 col3\" >windows</td>\n      <td id=\"T_96a40_row4_col4\" class=\"data row4 col4\" >Action;Adventure;Free to Play;Massively Multiplayer</td>\n      <td id=\"T_96a40_row4_col5\" class=\"data row4 col5\" >111434</td>\n      <td id=\"T_96a40_row4_col6\" class=\"data row4 col6\" >91664</td>\n      <td id=\"T_96a40_row4_col7\" class=\"data row4 col7\" >91596.520910</td>\n    </tr>\n    <tr>\n      <th id=\"T_96a40_level0_row5\" class=\"row_heading level0 row5\" >1506</th>\n      <td id=\"T_96a40_row5_col0\" class=\"data row5 col0\" >DayZ</td>\n      <td id=\"T_96a40_row5_col1\" class=\"data row5 col1\" >33.990000</td>\n      <td id=\"T_96a40_row5_col2\" class=\"data row5 col2\" >2018-12-13</td>\n      <td id=\"T_96a40_row5_col3\" class=\"data row5 col3\" >windows</td>\n      <td id=\"T_96a40_row5_col4\" class=\"data row5 col4\" >Action;Adventure;Massively Multiplayer</td>\n      <td id=\"T_96a40_row5_col5\" class=\"data row5 col5\" >118435</td>\n      <td id=\"T_96a40_row5_col6\" class=\"data row5 col6\" >77169</td>\n      <td id=\"T_96a40_row5_col7\" class=\"data row5 col7\" >77115.658055</td>\n    </tr>\n    <tr>\n      <th id=\"T_96a40_level0_row6\" class=\"row_heading level0 row6\" >4712</th>\n      <td id=\"T_96a40_row6_col0\" class=\"data row6 col0\" >ARK: Survival Evolved</td>\n      <td id=\"T_96a40_row6_col1\" class=\"data row6 col1\" >44.990000</td>\n      <td id=\"T_96a40_row6_col2\" class=\"data row6 col2\" >2017-08-27</td>\n      <td id=\"T_96a40_row6_col3\" class=\"data row6 col3\" >windows;mac;linux</td>\n      <td id=\"T_96a40_row6_col4\" class=\"data row6 col4\" >Action;Adventure;Indie;Massively Multiplayer;RPG</td>\n      <td id=\"T_96a40_row6_col5\" class=\"data row6 col5\" >145035</td>\n      <td id=\"T_96a40_row6_col6\" class=\"data row6 col6\" >66603</td>\n      <td id=\"T_96a40_row6_col7\" class=\"data row6 col7\" >66565.478792</td>\n    </tr>\n    <tr>\n      <th id=\"T_96a40_level0_row7\" class=\"row_heading level0 row7\" >5235</th>\n      <td id=\"T_96a40_row7_col0\" class=\"data row7 col0\" >Tom Clancy's Rainbow Six® Siege</td>\n      <td id=\"T_96a40_row7_col1\" class=\"data row7 col1\" >16.990000</td>\n      <td id=\"T_96a40_row7_col2\" class=\"data row7 col2\" >2015-12-01</td>\n      <td id=\"T_96a40_row7_col3\" class=\"data row7 col3\" >windows</td>\n      <td id=\"T_96a40_row7_col4\" class=\"data row7 col4\" >Action</td>\n      <td id=\"T_96a40_row7_col5\" class=\"data row7 col5\" >251178</td>\n      <td id=\"T_96a40_row7_col6\" class=\"data row7 col6\" >59620</td>\n      <td id=\"T_96a40_row7_col7\" class=\"data row7 col7\" >59600.636017</td>\n    </tr>\n    <tr>\n      <th id=\"T_96a40_level0_row8\" class=\"row_heading level0 row8\" >1467</th>\n      <td id=\"T_96a40_row8_col0\" class=\"data row8 col0\" >PAYDAY 2</td>\n      <td id=\"T_96a40_row8_col1\" class=\"data row8 col1\" >7.490000</td>\n      <td id=\"T_96a40_row8_col2\" class=\"data row8 col2\" >2013-08-13</td>\n      <td id=\"T_96a40_row8_col3\" class=\"data row8 col3\" >windows;linux</td>\n      <td id=\"T_96a40_row8_col4\" class=\"data row8 col4\" >Action;RPG</td>\n      <td id=\"T_96a40_row8_col5\" class=\"data row8 col5\" >308657</td>\n      <td id=\"T_96a40_row8_col6\" class=\"data row8 col6\" >56523</td>\n      <td id=\"T_96a40_row8_col7\" class=\"data row8 col7\" >56508.073646</td>\n    </tr>\n    <tr>\n      <th id=\"T_96a40_level0_row9\" class=\"row_heading level0 row9\" >2563</th>\n      <td id=\"T_96a40_row9_col0\" class=\"data row9 col0\" >No Man's Sky</td>\n      <td id=\"T_96a40_row9_col1\" class=\"data row9 col1\" >39.990000</td>\n      <td id=\"T_96a40_row9_col2\" class=\"data row9 col2\" >2016-08-12</td>\n      <td id=\"T_96a40_row9_col3\" class=\"data row9 col3\" >windows</td>\n      <td id=\"T_96a40_row9_col4\" class=\"data row9 col4\" >Action;Adventure</td>\n      <td id=\"T_96a40_row9_col5\" class=\"data row9 col5\" >63444</td>\n      <td id=\"T_96a40_row9_col6\" class=\"data row9 col6\" >56488</td>\n      <td id=\"T_96a40_row9_col7\" class=\"data row9 col7\" >56415.503933</td>\n    </tr>\n  </tbody>\n</table>\n"
     },
     "metadata": {},
     "output_type": "display_data"
    }
   ],
   "source": [
    "recommendations = get_game_recommendations(data, filtered_games, platforms='Windows', top_n=10)\n",
    "display(recommendations)"
   ],
   "metadata": {
    "collapsed": false,
    "ExecuteTime": {
     "end_time": "2023-05-31T13:45:18.373984100Z",
     "start_time": "2023-05-31T13:45:18.238443900Z"
    }
   }
  }
 ]
}
